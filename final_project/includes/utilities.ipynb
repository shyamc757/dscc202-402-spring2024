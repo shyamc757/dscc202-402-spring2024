{
 "cells": [
  {
   "cell_type": "code",
   "execution_count": 0,
   "metadata": {
    "application/vnd.databricks.v1+cell": {
     "cellMetadata": {
      "byteLimit": 2048000,
      "rowLimit": 10000
     },
     "inputWidgets": {},
     "nuid": "bb9e3148-916a-455f-8dd1-e0dde07cdc35",
     "showTitle": false,
     "title": ""
    }
   },
   "outputs": [],
   "source": [
    "\n",
    "from pyspark.sql.session import SparkSession\n",
    "import time\n",
    "import boto3, botocore\n",
    "import pandas as pd\n",
    "\n",
    "# Return a data frame with the files in the source directory\n",
    "def get_source_listing_df() -> pd.DataFrame:\n",
    "    # Create a boto3 resource for S3 using anonymous credentials\n",
    "    s3 = boto3.resource('s3', config=boto3.session.Config(signature_version=botocore.UNSIGNED))\n",
    "\n",
    "    # Create a Bucket object\n",
    "    bucket = s3.Bucket(TWEET_BUCKET_NAME)\n",
    "\n",
    "    # List objects in the bucket\n",
    "    objects = [obj.key for obj in bucket.objects.all()]\n",
    "\n",
    "    # Convert the list of objects to a Pandas DataFrame\n",
    "    df = pd.DataFrame(objects, columns=['File Name'])\n",
    "\n",
    "    return df\n",
    "\n",
    "# Show the contents of a file stored in S3\n",
    "def show_s3_file_contents(filename: str) -> str:\n",
    "    # Create a boto3 resource for S3 using anonymous credentials\n",
    "    s3 = boto3.resource('s3', config=boto3.session.Config(signature_version=botocore.UNSIGNED))\n",
    "    # Show the first record\n",
    "    obj = s3.Object(TWEET_BUCKET_NAME, filename)\n",
    "    data=obj.get()['Body'].read()\n",
    "    return(data)\n",
    "\n",
    "# This routine requires the paths defined in the includes notebook\n",
    "# and it clears data from the previous run.\n",
    "def clear_previous_run() -> bool:\n",
    "    # delete previous run \n",
    "    dbutils.fs.rm(BRONZE_CHECKPOINT, True)\n",
    "    dbutils.fs.rm(BRONZE_DELTA, True)\n",
    "    dbutils.fs.rm(SILVER_CHECKPOINT, True)\n",
    "    dbutils.fs.rm(SILVER_DELTA, True)\n",
    "    dbutils.fs.rm(GOLD_CHECKPOINT, True)\n",
    "    dbutils.fs.rm(GOLD_DELTA, True)\n",
    "    return True\n",
    "\n",
    "def stop_all_streams() -> bool:\n",
    "    stopped = False\n",
    "    for stream in spark.streams.active:\n",
    "        stopped = True\n",
    "        stream.stop()\n",
    "    return stopped\n",
    "\n",
    "\n",
    "def stop_named_stream(spark: SparkSession, namedStream: str) -> bool:\n",
    "    stopped = False\n",
    "    for stream in spark.streams.active:\n",
    "        if stream.name == namedStream:\n",
    "            stopped = True \n",
    "            stream.stop()\n",
    "    return stopped\n",
    "\n",
    "def wait_stream_start(spark: SparkSession, namedStream: str) -> bool:\n",
    "    started = False\n",
    "    count = 0\n",
    "    if started == False and count <= 3:\n",
    "        for stream in spark.streams.active:\n",
    "            if stream.name == namedStream:\n",
    "                started = True\n",
    "            count += 1\n",
    "        time.sleep(10)\n",
    "    return started    \n",
    "\n"
   ]
  }
 ],
 "metadata": {
  "application/vnd.databricks.v1+notebook": {
   "dashboards": [],
   "language": "python",
   "notebookMetadata": {
    "pythonIndentUnit": 2
   },
   "notebookName": "utilities",
   "widgets": {}
  }
 },
 "nbformat": 4,
 "nbformat_minor": 0
}
